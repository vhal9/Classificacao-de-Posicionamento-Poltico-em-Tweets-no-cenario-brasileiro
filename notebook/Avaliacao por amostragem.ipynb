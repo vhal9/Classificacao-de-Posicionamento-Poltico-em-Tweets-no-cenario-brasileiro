{
 "cells": [
  {
   "cell_type": "markdown",
   "metadata": {},
   "source": [
    "## Carregar os dados"
   ]
  },
  {
   "cell_type": "code",
   "execution_count": 1,
   "metadata": {},
   "outputs": [],
   "source": [
    "import pandas as pd"
   ]
  },
  {
   "cell_type": "code",
   "execution_count": 2,
   "metadata": {},
   "outputs": [],
   "source": [
    "dadosDT = pd.read_csv('../data/testeDT.csv')\n",
    "dadosNN = pd.read_csv('../data/testeNN.csv')"
   ]
  },
  {
   "cell_type": "code",
   "execution_count": null,
   "metadata": {},
   "outputs": [],
   "source": []
  },
  {
   "cell_type": "markdown",
   "metadata": {},
   "source": [
    "## Extrair uma amostra para verificar o número de acertos"
   ]
  },
  {
   "cell_type": "code",
   "execution_count": 3,
   "metadata": {},
   "outputs": [],
   "source": [
    "import numpy as np"
   ]
  },
  {
   "cell_type": "code",
   "execution_count": 4,
   "metadata": {},
   "outputs": [],
   "source": [
    "df_indexs = list(dadosDT.index)"
   ]
  },
  {
   "cell_type": "code",
   "execution_count": 5,
   "metadata": {},
   "outputs": [],
   "source": [
    "indexs = np.random.choice(df_indexs,150,replace=False)"
   ]
  },
  {
   "cell_type": "code",
   "execution_count": 6,
   "metadata": {},
   "outputs": [],
   "source": [
    "amostraDT = dadosDT.iloc[indexs]"
   ]
  },
  {
   "cell_type": "code",
   "execution_count": 7,
   "metadata": {},
   "outputs": [],
   "source": [
    "amostraNN = dadosNN.iloc[indexs]"
   ]
  },
  {
   "cell_type": "markdown",
   "metadata": {},
   "source": [
    "- Não executar novamente a amostragem"
   ]
  },
  {
   "cell_type": "code",
   "execution_count": 15,
   "metadata": {},
   "outputs": [
    {
     "data": {
      "text/html": [
       "<div>\n",
       "<style scoped>\n",
       "    .dataframe tbody tr th:only-of-type {\n",
       "        vertical-align: middle;\n",
       "    }\n",
       "\n",
       "    .dataframe tbody tr th {\n",
       "        vertical-align: top;\n",
       "    }\n",
       "\n",
       "    .dataframe thead th {\n",
       "        text-align: right;\n",
       "    }\n",
       "</style>\n",
       "<table border=\"1\" class=\"dataframe\">\n",
       "  <thead>\n",
       "    <tr style=\"text-align: right;\">\n",
       "      <th></th>\n",
       "      <th>Unnamed: 0</th>\n",
       "      <th>tags</th>\n",
       "      <th>text</th>\n",
       "    </tr>\n",
       "  </thead>\n",
       "  <tbody>\n",
       "    <tr>\n",
       "      <th>3089</th>\n",
       "      <td>3089</td>\n",
       "      <td>1</td>\n",
       "      <td>chupa seu porco a cana e doce e dura viu safado</td>\n",
       "    </tr>\n",
       "    <tr>\n",
       "      <th>4695</th>\n",
       "      <td>4695</td>\n",
       "      <td>0</td>\n",
       "      <td>bolsonaro e homofobico racista e misogino se v...</td>\n",
       "    </tr>\n",
       "    <tr>\n",
       "      <th>1839</th>\n",
       "      <td>1839</td>\n",
       "      <td>1</td>\n",
       "      <td>nenhum partido politico e maior do que o brasi...</td>\n",
       "    </tr>\n",
       "    <tr>\n",
       "      <th>2315</th>\n",
       "      <td>2315</td>\n",
       "      <td>1</td>\n",
       "      <td>alem do sonho e preciso agir criar as proprias...</td>\n",
       "    </tr>\n",
       "    <tr>\n",
       "      <th>3007</th>\n",
       "      <td>3007</td>\n",
       "      <td>1</td>\n",
       "      <td>yjcxqunlz8 15 rs</td>\n",
       "    </tr>\n",
       "    <tr>\n",
       "      <th>3850</th>\n",
       "      <td>3850</td>\n",
       "      <td>1</td>\n",
       "      <td>so ler os comentarios e hilario</td>\n",
       "    </tr>\n",
       "    <tr>\n",
       "      <th>4641</th>\n",
       "      <td>4641</td>\n",
       "      <td>1</td>\n",
       "      <td>pessoal o governador de mg e o prefeito da mi...</td>\n",
       "    </tr>\n",
       "    <tr>\n",
       "      <th>5071</th>\n",
       "      <td>5071</td>\n",
       "      <td>1</td>\n",
       "      <td>video sexo por notas cameras escondidas expoe...</td>\n",
       "    </tr>\n",
       "    <tr>\n",
       "      <th>1623</th>\n",
       "      <td>1623</td>\n",
       "      <td>1</td>\n",
       "      <td>come on whats with the side kick he sure does...</td>\n",
       "    </tr>\n",
       "    <tr>\n",
       "      <th>612</th>\n",
       "      <td>612</td>\n",
       "      <td>1</td>\n",
       "      <td>o governo bem que tenta mas a resistencia a ce...</td>\n",
       "    </tr>\n",
       "    <tr>\n",
       "      <th>4795</th>\n",
       "      <td>4795</td>\n",
       "      <td>1</td>\n",
       "      <td>qual o pai ou mae acha normal um presidente ca...</td>\n",
       "    </tr>\n",
       "    <tr>\n",
       "      <th>4098</th>\n",
       "      <td>4098</td>\n",
       "      <td>1</td>\n",
       "      <td>foi tarde sucuri idiota</td>\n",
       "    </tr>\n",
       "    <tr>\n",
       "      <th>4829</th>\n",
       "      <td>4829</td>\n",
       "      <td>1</td>\n",
       "      <td>para as mais beijinho para as recalcada</td>\n",
       "    </tr>\n",
       "    <tr>\n",
       "      <th>2753</th>\n",
       "      <td>2753</td>\n",
       "      <td>1</td>\n",
       "      <td>o sonho dos esquerdopatas continua sendo so um...</td>\n",
       "    </tr>\n",
       "    <tr>\n",
       "      <th>1367</th>\n",
       "      <td>1367</td>\n",
       "      <td>1</td>\n",
       "      <td>fogaca juliana seu prato me surprendeu n posit...</td>\n",
       "    </tr>\n",
       "    <tr>\n",
       "      <th>1764</th>\n",
       "      <td>1764</td>\n",
       "      <td>1</td>\n",
       "      <td>silencio o jovem esta descobrindo o brisadeiro</td>\n",
       "    </tr>\n",
       "    <tr>\n",
       "      <th>559</th>\n",
       "      <td>559</td>\n",
       "      <td>2</td>\n",
       "      <td>2 o brasil e o quarto colocado no ranking mund...</td>\n",
       "    </tr>\n",
       "    <tr>\n",
       "      <th>295</th>\n",
       "      <td>295</td>\n",
       "      <td>1</td>\n",
       "      <td>psol pede a pgr investigar uso de milicias di...</td>\n",
       "    </tr>\n",
       "    <tr>\n",
       "      <th>4617</th>\n",
       "      <td>4617</td>\n",
       "      <td>1</td>\n",
       "      <td>tudo o que o homem plantar ele mesmo colheraq...</td>\n",
       "    </tr>\n",
       "    <tr>\n",
       "      <th>1293</th>\n",
       "      <td>1293</td>\n",
       "      <td>1</td>\n",
       "      <td>english speaking practice via</td>\n",
       "    </tr>\n",
       "    <tr>\n",
       "      <th>493</th>\n",
       "      <td>493</td>\n",
       "      <td>1</td>\n",
       "      <td>o laranjal pode derrubar bolsonaro a censura e...</td>\n",
       "    </tr>\n",
       "    <tr>\n",
       "      <th>1334</th>\n",
       "      <td>1334</td>\n",
       "      <td>1</td>\n",
       "      <td>e gratificante ver a linda cia folclorica matu...</td>\n",
       "    </tr>\n",
       "    <tr>\n",
       "      <th>4444</th>\n",
       "      <td>4444</td>\n",
       "      <td>1</td>\n",
       "      <td>agora sim da pra encher a cara</td>\n",
       "    </tr>\n",
       "    <tr>\n",
       "      <th>4849</th>\n",
       "      <td>4849</td>\n",
       "      <td>1</td>\n",
       "      <td>odeio sair com gente q so fala de faculdade q...</td>\n",
       "    </tr>\n",
       "    <tr>\n",
       "      <th>3863</th>\n",
       "      <td>3863</td>\n",
       "      <td>1</td>\n",
       "      <td>novafotodoperfil</td>\n",
       "    </tr>\n",
       "    <tr>\n",
       "      <th>3389</th>\n",
       "      <td>3389</td>\n",
       "      <td>1</td>\n",
       "      <td>rio muito com as mina do busao achando que eu ...</td>\n",
       "    </tr>\n",
       "    <tr>\n",
       "      <th>4009</th>\n",
       "      <td>4009</td>\n",
       "      <td>1</td>\n",
       "      <td>azedou</td>\n",
       "    </tr>\n",
       "    <tr>\n",
       "      <th>1224</th>\n",
       "      <td>1224</td>\n",
       "      <td>1</td>\n",
       "      <td>virei assinante recentemente que ap e esse us...</td>\n",
       "    </tr>\n",
       "    <tr>\n",
       "      <th>193</th>\n",
       "      <td>193</td>\n",
       "      <td>1</td>\n",
       "      <td>educacao educacao e educacao ideia exemplo e m...</td>\n",
       "    </tr>\n",
       "    <tr>\n",
       "      <th>4404</th>\n",
       "      <td>4404</td>\n",
       "      <td>1</td>\n",
       "      <td>eba maravilhosa</td>\n",
       "    </tr>\n",
       "    <tr>\n",
       "      <th>...</th>\n",
       "      <td>...</td>\n",
       "      <td>...</td>\n",
       "      <td>...</td>\n",
       "    </tr>\n",
       "    <tr>\n",
       "      <th>1706</th>\n",
       "      <td>1706</td>\n",
       "      <td>1</td>\n",
       "      <td>meu burro favorito</td>\n",
       "    </tr>\n",
       "    <tr>\n",
       "      <th>4926</th>\n",
       "      <td>4926</td>\n",
       "      <td>1</td>\n",
       "      <td>porra imagina andar na rua sem ouvir gracinha...</td>\n",
       "    </tr>\n",
       "    <tr>\n",
       "      <th>178</th>\n",
       "      <td>178</td>\n",
       "      <td>1</td>\n",
       "      <td>cafecomboulos entenda o que significa o acordo...</td>\n",
       "    </tr>\n",
       "    <tr>\n",
       "      <th>4342</th>\n",
       "      <td>4342</td>\n",
       "      <td>1</td>\n",
       "      <td></td>\n",
       "    </tr>\n",
       "    <tr>\n",
       "      <th>81</th>\n",
       "      <td>81</td>\n",
       "      <td>1</td>\n",
       "      <td>apos forte pressao dos motoristas de aplicativ...</td>\n",
       "    </tr>\n",
       "    <tr>\n",
       "      <th>5320</th>\n",
       "      <td>5320</td>\n",
       "      <td>1</td>\n",
       "      <td>ate que enfim ele falou uma verdade</td>\n",
       "    </tr>\n",
       "    <tr>\n",
       "      <th>2584</th>\n",
       "      <td>2584</td>\n",
       "      <td>1</td>\n",
       "      <td>a maior decepcao para o brasil</td>\n",
       "    </tr>\n",
       "    <tr>\n",
       "      <th>200</th>\n",
       "      <td>200</td>\n",
       "      <td>1</td>\n",
       "      <td>participo agora da i conferencia nacional de e...</td>\n",
       "    </tr>\n",
       "    <tr>\n",
       "      <th>4092</th>\n",
       "      <td>4092</td>\n",
       "      <td>1</td>\n",
       "      <td>eu so nao gosto dele e acho ele forcado mas s...</td>\n",
       "    </tr>\n",
       "    <tr>\n",
       "      <th>3669</th>\n",
       "      <td>3669</td>\n",
       "      <td>1</td>\n",
       "      <td>iurd igrejauniversal fjublocosul</td>\n",
       "    </tr>\n",
       "    <tr>\n",
       "      <th>3681</th>\n",
       "      <td>3681</td>\n",
       "      <td>1</td>\n",
       "      <td>hj eu so quero ser mimada e comprendida</td>\n",
       "    </tr>\n",
       "    <tr>\n",
       "      <th>25</th>\n",
       "      <td>25</td>\n",
       "      <td>1</td>\n",
       "      <td>senado finalmente aprovou a reforma da previd...</td>\n",
       "    </tr>\n",
       "    <tr>\n",
       "      <th>1153</th>\n",
       "      <td>1153</td>\n",
       "      <td>1</td>\n",
       "      <td>com que dinheiro</td>\n",
       "    </tr>\n",
       "    <tr>\n",
       "      <th>419</th>\n",
       "      <td>419</td>\n",
       "      <td>1</td>\n",
       "      <td>maturidade politica por parte dos membros do ...</td>\n",
       "    </tr>\n",
       "    <tr>\n",
       "      <th>1239</th>\n",
       "      <td>1239</td>\n",
       "      <td>1</td>\n",
       "      <td>compra essa porcaria de livro e de de presente...</td>\n",
       "    </tr>\n",
       "    <tr>\n",
       "      <th>3644</th>\n",
       "      <td>3644</td>\n",
       "      <td>1</td>\n",
       "      <td>ai q ele nao consegue nada ja ta ruim pra ele k</td>\n",
       "    </tr>\n",
       "    <tr>\n",
       "      <th>3222</th>\n",
       "      <td>3222</td>\n",
       "      <td>1</td>\n",
       "      <td>sulamericano brasil vence colombia por 3 sets...</td>\n",
       "    </tr>\n",
       "    <tr>\n",
       "      <th>1606</th>\n",
       "      <td>1606</td>\n",
       "      <td>1</td>\n",
       "      <td>o clipe ta lindo a paisagem impecavel o jao j...</td>\n",
       "    </tr>\n",
       "    <tr>\n",
       "      <th>3090</th>\n",
       "      <td>3090</td>\n",
       "      <td>1</td>\n",
       "      <td>tu nao eras evangelico sua besta</td>\n",
       "    </tr>\n",
       "    <tr>\n",
       "      <th>2189</th>\n",
       "      <td>2189</td>\n",
       "      <td>0</td>\n",
       "      <td>o maior injusticado da historia da selecao br...</td>\n",
       "    </tr>\n",
       "    <tr>\n",
       "      <th>1404</th>\n",
       "      <td>1404</td>\n",
       "      <td>1</td>\n",
       "      <td>boicote total</td>\n",
       "    </tr>\n",
       "    <tr>\n",
       "      <th>1756</th>\n",
       "      <td>1756</td>\n",
       "      <td>1</td>\n",
       "      <td>pra cima moro</td>\n",
       "    </tr>\n",
       "    <tr>\n",
       "      <th>1971</th>\n",
       "      <td>1971</td>\n",
       "      <td>1</td>\n",
       "      <td>o brasil acima de tudo e deus acima de tudo e...</td>\n",
       "    </tr>\n",
       "    <tr>\n",
       "      <th>3172</th>\n",
       "      <td>3172</td>\n",
       "      <td>1</td>\n",
       "      <td>a tim de tanto roubar os meus mb de internet ...</td>\n",
       "    </tr>\n",
       "    <tr>\n",
       "      <th>1737</th>\n",
       "      <td>1737</td>\n",
       "      <td>1</td>\n",
       "      <td>so overwhelmed by al the love amitynoida than...</td>\n",
       "    </tr>\n",
       "    <tr>\n",
       "      <th>2330</th>\n",
       "      <td>2330</td>\n",
       "      <td>1</td>\n",
       "      <td>depois de rastelar a grama e cuidar do jardime...</td>\n",
       "    </tr>\n",
       "    <tr>\n",
       "      <th>397</th>\n",
       "      <td>397</td>\n",
       "      <td>1</td>\n",
       "      <td>que bom que assistiu o video os vetos apesar d...</td>\n",
       "    </tr>\n",
       "    <tr>\n",
       "      <th>4285</th>\n",
       "      <td>4285</td>\n",
       "      <td>1</td>\n",
       "      <td>tomara que encontrem uma roxa pra interpretar...</td>\n",
       "    </tr>\n",
       "    <tr>\n",
       "      <th>2721</th>\n",
       "      <td>2721</td>\n",
       "      <td>1</td>\n",
       "      <td>governo temer pagou r 73 milhoes a salao de b...</td>\n",
       "    </tr>\n",
       "    <tr>\n",
       "      <th>3531</th>\n",
       "      <td>3531</td>\n",
       "      <td>1</td>\n",
       "      <td>no video de lancamento da campanha emdefesada...</td>\n",
       "    </tr>\n",
       "  </tbody>\n",
       "</table>\n",
       "<p>150 rows × 3 columns</p>\n",
       "</div>"
      ],
      "text/plain": [
       "      Unnamed: 0  tags                                               text\n",
       "3089        3089     1    chupa seu porco a cana e doce e dura viu safado\n",
       "4695        4695     0  bolsonaro e homofobico racista e misogino se v...\n",
       "1839        1839     1  nenhum partido politico e maior do que o brasi...\n",
       "2315        2315     1  alem do sonho e preciso agir criar as proprias...\n",
       "3007        3007     1                                   yjcxqunlz8 15 rs\n",
       "3850        3850     1                   so ler os comentarios e hilario \n",
       "4641        4641     1   pessoal o governador de mg e o prefeito da mi...\n",
       "5071        5071     1   video sexo por notas cameras escondidas expoe...\n",
       "1623        1623     1   come on whats with the side kick he sure does...\n",
       "612          612     1  o governo bem que tenta mas a resistencia a ce...\n",
       "4795        4795     1  qual o pai ou mae acha normal um presidente ca...\n",
       "4098        4098     1                           foi tarde sucuri idiota \n",
       "4829        4829     1           para as mais beijinho para as recalcada \n",
       "2753        2753     1  o sonho dos esquerdopatas continua sendo so um...\n",
       "1367        1367     1  fogaca juliana seu prato me surprendeu n posit...\n",
       "1764        1764     1    silencio o jovem esta descobrindo o brisadeiro \n",
       "559          559     2  2 o brasil e o quarto colocado no ranking mund...\n",
       "295          295     1   psol pede a pgr investigar uso de milicias di...\n",
       "4617        4617     1   tudo o que o homem plantar ele mesmo colheraq...\n",
       "1293        1293     1                     english speaking practice via \n",
       "493          493     1  o laranjal pode derrubar bolsonaro a censura e...\n",
       "1334        1334     1  e gratificante ver a linda cia folclorica matu...\n",
       "4444        4444     1                    agora sim da pra encher a cara \n",
       "4849        4849     1   odeio sair com gente q so fala de faculdade q...\n",
       "3863        3863     1                                  novafotodoperfil \n",
       "3389        3389     1  rio muito com as mina do busao achando que eu ...\n",
       "4009        4009     1                                             azedou\n",
       "1224        1224     1   virei assinante recentemente que ap e esse us...\n",
       "193          193     1  educacao educacao e educacao ideia exemplo e m...\n",
       "4404        4404     1                                  eba maravilhosa  \n",
       "...          ...   ...                                                ...\n",
       "1706        1706     1                                meu burro favorito \n",
       "4926        4926     1   porra imagina andar na rua sem ouvir gracinha...\n",
       "178          178     1  cafecomboulos entenda o que significa o acordo...\n",
       "4342        4342     1                                                   \n",
       "81            81     1  apos forte pressao dos motoristas de aplicativ...\n",
       "5320        5320     1                ate que enfim ele falou uma verdade\n",
       "2584        2584     1                     a maior decepcao para o brasil\n",
       "200          200     1  participo agora da i conferencia nacional de e...\n",
       "4092        4092     1   eu so nao gosto dele e acho ele forcado mas s...\n",
       "3669        3669     1                  iurd igrejauniversal fjublocosul \n",
       "3681        3681     1            hj eu so quero ser mimada e comprendida\n",
       "25            25     1   senado finalmente aprovou a reforma da previd...\n",
       "1153        1153     1                                   com que dinheiro\n",
       "419          419     1   maturidade politica por parte dos membros do ...\n",
       "1239        1239     1  compra essa porcaria de livro e de de presente...\n",
       "3644        3644     1    ai q ele nao consegue nada ja ta ruim pra ele k\n",
       "3222        3222     1   sulamericano brasil vence colombia por 3 sets...\n",
       "1606        1606     1   o clipe ta lindo a paisagem impecavel o jao j...\n",
       "3090        3090     1                   tu nao eras evangelico sua besta\n",
       "2189        2189     0   o maior injusticado da historia da selecao br...\n",
       "1404        1404     1                                      boicote total\n",
       "1756        1756     1                                      pra cima moro\n",
       "1971        1971     1   o brasil acima de tudo e deus acima de tudo e...\n",
       "3172        3172     1   a tim de tanto roubar os meus mb de internet ...\n",
       "1737        1737     1   so overwhelmed by al the love amitynoida than...\n",
       "2330        2330     1  depois de rastelar a grama e cuidar do jardime...\n",
       "397          397     1  que bom que assistiu o video os vetos apesar d...\n",
       "4285        4285     1   tomara que encontrem uma roxa pra interpretar...\n",
       "2721        2721     1   governo temer pagou r 73 milhoes a salao de b...\n",
       "3531        3531     1   no video de lancamento da campanha emdefesada...\n",
       "\n",
       "[150 rows x 3 columns]"
      ]
     },
     "execution_count": 15,
     "metadata": {},
     "output_type": "execute_result"
    }
   ],
   "source": [
    "amostraNN[:10]"
   ]
  },
  {
   "cell_type": "code",
   "execution_count": 16,
   "metadata": {},
   "outputs": [],
   "source": [
    "amostraDT.to_csv('../data/amostraDT.csv')\n",
    "amostraNN.to_csv('../data/amostraNN.csv')"
   ]
  },
  {
   "cell_type": "markdown",
   "metadata": {},
   "source": [
    "- Após salvar os modelos foi realizado uma verificação de cada classificação indicando se a classificação estava certa e indicando a classificação correta"
   ]
  },
  {
   "cell_type": "code",
   "execution_count": 18,
   "metadata": {},
   "outputs": [],
   "source": [
    "amostraDT = pd.read_csv('../data/amostraDT.csv', usecols=['tags', 'text', 'classificacao', 'pos'])"
   ]
  },
  {
   "cell_type": "code",
   "execution_count": 19,
   "metadata": {},
   "outputs": [],
   "source": [
    "amostraNN = pd.read_csv('../data/amostraNN.csv', usecols=['tags', 'text', 'classificacao', 'pos'])"
   ]
  },
  {
   "cell_type": "code",
   "execution_count": 20,
   "metadata": {},
   "outputs": [
    {
     "data": {
      "text/html": [
       "<div>\n",
       "<style scoped>\n",
       "    .dataframe tbody tr th:only-of-type {\n",
       "        vertical-align: middle;\n",
       "    }\n",
       "\n",
       "    .dataframe tbody tr th {\n",
       "        vertical-align: top;\n",
       "    }\n",
       "\n",
       "    .dataframe thead th {\n",
       "        text-align: right;\n",
       "    }\n",
       "</style>\n",
       "<table border=\"1\" class=\"dataframe\">\n",
       "  <thead>\n",
       "    <tr style=\"text-align: right;\">\n",
       "      <th></th>\n",
       "      <th>tags</th>\n",
       "      <th>text</th>\n",
       "      <th>classificacao</th>\n",
       "      <th>pos</th>\n",
       "    </tr>\n",
       "  </thead>\n",
       "  <tbody>\n",
       "    <tr>\n",
       "      <th>0</th>\n",
       "      <td>1</td>\n",
       "      <td>chupa seu porco a cana e doce e dura viu safado</td>\n",
       "      <td>1</td>\n",
       "      <td>1</td>\n",
       "    </tr>\n",
       "    <tr>\n",
       "      <th>1</th>\n",
       "      <td>0</td>\n",
       "      <td>bolsonaro e homofobico racista e misogino se v...</td>\n",
       "      <td>1</td>\n",
       "      <td>0</td>\n",
       "    </tr>\n",
       "    <tr>\n",
       "      <th>2</th>\n",
       "      <td>1</td>\n",
       "      <td>nenhum partido politico e maior do que o brasi...</td>\n",
       "      <td>1</td>\n",
       "      <td>1</td>\n",
       "    </tr>\n",
       "    <tr>\n",
       "      <th>3</th>\n",
       "      <td>1</td>\n",
       "      <td>alem do sonho e preciso agir criar as proprias...</td>\n",
       "      <td>1</td>\n",
       "      <td>1</td>\n",
       "    </tr>\n",
       "    <tr>\n",
       "      <th>4</th>\n",
       "      <td>1</td>\n",
       "      <td>yjcxqunlz8 15 rs</td>\n",
       "      <td>1</td>\n",
       "      <td>1</td>\n",
       "    </tr>\n",
       "    <tr>\n",
       "      <th>5</th>\n",
       "      <td>1</td>\n",
       "      <td>so ler os comentarios e hilario</td>\n",
       "      <td>1</td>\n",
       "      <td>1</td>\n",
       "    </tr>\n",
       "    <tr>\n",
       "      <th>6</th>\n",
       "      <td>1</td>\n",
       "      <td>pessoal o governador de mg e o prefeito da mi...</td>\n",
       "      <td>1</td>\n",
       "      <td>1</td>\n",
       "    </tr>\n",
       "    <tr>\n",
       "      <th>7</th>\n",
       "      <td>1</td>\n",
       "      <td>video sexo por notas cameras escondidas expoe...</td>\n",
       "      <td>1</td>\n",
       "      <td>1</td>\n",
       "    </tr>\n",
       "    <tr>\n",
       "      <th>8</th>\n",
       "      <td>1</td>\n",
       "      <td>come on whats with the side kick he sure does...</td>\n",
       "      <td>1</td>\n",
       "      <td>1</td>\n",
       "    </tr>\n",
       "    <tr>\n",
       "      <th>9</th>\n",
       "      <td>1</td>\n",
       "      <td>o governo bem que tenta mas a resistencia a ce...</td>\n",
       "      <td>1</td>\n",
       "      <td>1</td>\n",
       "    </tr>\n",
       "  </tbody>\n",
       "</table>\n",
       "</div>"
      ],
      "text/plain": [
       "   tags                                               text  classificacao  pos\n",
       "0     1    chupa seu porco a cana e doce e dura viu safado              1    1\n",
       "1     0  bolsonaro e homofobico racista e misogino se v...              1    0\n",
       "2     1  nenhum partido politico e maior do que o brasi...              1    1\n",
       "3     1  alem do sonho e preciso agir criar as proprias...              1    1\n",
       "4     1                                   yjcxqunlz8 15 rs              1    1\n",
       "5     1                   so ler os comentarios e hilario               1    1\n",
       "6     1   pessoal o governador de mg e o prefeito da mi...              1    1\n",
       "7     1   video sexo por notas cameras escondidas expoe...              1    1\n",
       "8     1   come on whats with the side kick he sure does...              1    1\n",
       "9     1  o governo bem que tenta mas a resistencia a ce...              1    1"
      ]
     },
     "execution_count": 20,
     "metadata": {},
     "output_type": "execute_result"
    }
   ],
   "source": [
    "amostraNN[:10]"
   ]
  },
  {
   "cell_type": "code",
   "execution_count": 21,
   "metadata": {},
   "outputs": [],
   "source": [
    "estatisticaDT = amostraDT['classificacao']\n",
    "estatisticaNN = amostraNN['classificacao']"
   ]
  },
  {
   "cell_type": "code",
   "execution_count": 22,
   "metadata": {},
   "outputs": [],
   "source": [
    "dt = estatisticaDT.value_counts()\n",
    "nn = estatisticaNN.value_counts()"
   ]
  },
  {
   "cell_type": "code",
   "execution_count": 23,
   "metadata": {},
   "outputs": [
    {
     "data": {
      "text/plain": [
       "1    122\n",
       "0     28\n",
       "Name: classificacao, dtype: int64"
      ]
     },
     "execution_count": 23,
     "metadata": {},
     "output_type": "execute_result"
    }
   ],
   "source": [
    "dt"
   ]
  },
  {
   "cell_type": "code",
   "execution_count": 24,
   "metadata": {},
   "outputs": [
    {
     "data": {
      "text/plain": [
       "1    119\n",
       "0     31\n",
       "Name: classificacao, dtype: int64"
      ]
     },
     "execution_count": 24,
     "metadata": {},
     "output_type": "execute_result"
    }
   ],
   "source": [
    "nn"
   ]
  },
  {
   "cell_type": "markdown",
   "metadata": {},
   "source": [
    "- Precisão = (total de acertos)/(total de acertos + total de erros)\n",
    "- DT = 122/(122+28)\n",
    "- NN = 119/(119+31)"
   ]
  },
  {
   "cell_type": "code",
   "execution_count": 25,
   "metadata": {},
   "outputs": [],
   "source": [
    "def precision(estatistica):\n",
    "    return estatistica[1]/(estatistica[1]+estatistica[0])"
   ]
  },
  {
   "cell_type": "code",
   "execution_count": 26,
   "metadata": {},
   "outputs": [
    {
     "name": "stdout",
     "output_type": "stream",
     "text": [
      "0.8133333333333334\n"
     ]
    }
   ],
   "source": [
    "print(precision(dt))"
   ]
  },
  {
   "cell_type": "code",
   "execution_count": 27,
   "metadata": {},
   "outputs": [
    {
     "name": "stdout",
     "output_type": "stream",
     "text": [
      "0.7933333333333333\n"
     ]
    }
   ],
   "source": [
    "print(precision(nn))"
   ]
  },
  {
   "cell_type": "markdown",
   "metadata": {},
   "source": [
    "# Gerar matriz de confusão"
   ]
  },
  {
   "cell_type": "code",
   "execution_count": 60,
   "metadata": {},
   "outputs": [],
   "source": [
    "dfDT = amostraNN.loc[(amostraNN['pos']==2),['classificacao', 'tags']]"
   ]
  },
  {
   "cell_type": "code",
   "execution_count": 61,
   "metadata": {},
   "outputs": [
    {
     "data": {
      "text/html": [
       "<div>\n",
       "<style scoped>\n",
       "    .dataframe tbody tr th:only-of-type {\n",
       "        vertical-align: middle;\n",
       "    }\n",
       "\n",
       "    .dataframe tbody tr th {\n",
       "        vertical-align: top;\n",
       "    }\n",
       "\n",
       "    .dataframe thead th {\n",
       "        text-align: right;\n",
       "    }\n",
       "</style>\n",
       "<table border=\"1\" class=\"dataframe\">\n",
       "  <thead>\n",
       "    <tr style=\"text-align: right;\">\n",
       "      <th></th>\n",
       "      <th>classificacao</th>\n",
       "      <th>tags</th>\n",
       "    </tr>\n",
       "  </thead>\n",
       "  <tbody>\n",
       "    <tr>\n",
       "      <th>13</th>\n",
       "      <td>0</td>\n",
       "      <td>1</td>\n",
       "    </tr>\n",
       "    <tr>\n",
       "      <th>44</th>\n",
       "      <td>1</td>\n",
       "      <td>2</td>\n",
       "    </tr>\n",
       "    <tr>\n",
       "      <th>69</th>\n",
       "      <td>1</td>\n",
       "      <td>2</td>\n",
       "    </tr>\n",
       "    <tr>\n",
       "      <th>83</th>\n",
       "      <td>0</td>\n",
       "      <td>1</td>\n",
       "    </tr>\n",
       "    <tr>\n",
       "      <th>89</th>\n",
       "      <td>0</td>\n",
       "      <td>1</td>\n",
       "    </tr>\n",
       "    <tr>\n",
       "      <th>93</th>\n",
       "      <td>0</td>\n",
       "      <td>1</td>\n",
       "    </tr>\n",
       "    <tr>\n",
       "      <th>101</th>\n",
       "      <td>0</td>\n",
       "      <td>1</td>\n",
       "    </tr>\n",
       "    <tr>\n",
       "      <th>103</th>\n",
       "      <td>1</td>\n",
       "      <td>2</td>\n",
       "    </tr>\n",
       "    <tr>\n",
       "      <th>113</th>\n",
       "      <td>0</td>\n",
       "      <td>1</td>\n",
       "    </tr>\n",
       "    <tr>\n",
       "      <th>117</th>\n",
       "      <td>0</td>\n",
       "      <td>1</td>\n",
       "    </tr>\n",
       "    <tr>\n",
       "      <th>131</th>\n",
       "      <td>0</td>\n",
       "      <td>1</td>\n",
       "    </tr>\n",
       "    <tr>\n",
       "      <th>141</th>\n",
       "      <td>0</td>\n",
       "      <td>1</td>\n",
       "    </tr>\n",
       "    <tr>\n",
       "      <th>142</th>\n",
       "      <td>0</td>\n",
       "      <td>1</td>\n",
       "    </tr>\n",
       "  </tbody>\n",
       "</table>\n",
       "</div>"
      ],
      "text/plain": [
       "     classificacao  tags\n",
       "13               0     1\n",
       "44               1     2\n",
       "69               1     2\n",
       "83               0     1\n",
       "89               0     1\n",
       "93               0     1\n",
       "101              0     1\n",
       "103              1     2\n",
       "113              0     1\n",
       "117              0     1\n",
       "131              0     1\n",
       "141              0     1\n",
       "142              0     1"
      ]
     },
     "execution_count": 61,
     "metadata": {},
     "output_type": "execute_result"
    }
   ],
   "source": [
    "dfDT"
   ]
  },
  {
   "cell_type": "code",
   "execution_count": 62,
   "metadata": {},
   "outputs": [],
   "source": [
    "dt = dfDT['tags'].value_counts()"
   ]
  },
  {
   "cell_type": "code",
   "execution_count": 63,
   "metadata": {},
   "outputs": [
    {
     "data": {
      "text/plain": [
       "1    10\n",
       "2     3\n",
       "Name: tags, dtype: int64"
      ]
     },
     "execution_count": 63,
     "metadata": {},
     "output_type": "execute_result"
    }
   ],
   "source": [
    "dt"
   ]
  },
  {
   "cell_type": "markdown",
   "metadata": {},
   "source": [
    "## Verificar o acerto para posicionamento de esquerda e de direita\n",
    "- remover tweets neutros"
   ]
  },
  {
   "cell_type": "code",
   "execution_count": 56,
   "metadata": {},
   "outputs": [],
   "source": [
    "dfDT = amostraDT.loc[(amostraDT['pos']!=1),['classificacao', 'pos']]"
   ]
  },
  {
   "cell_type": "code",
   "execution_count": 57,
   "metadata": {},
   "outputs": [],
   "source": [
    "dfNN = amostraNN.loc[(amostraNN['pos']!=1),['classificacao', 'pos']]"
   ]
  },
  {
   "cell_type": "code",
   "execution_count": 59,
   "metadata": {},
   "outputs": [],
   "source": [
    "dt = dfDT['classificacao'].value_counts()\n",
    "nn = dfNN['classificacao'].value_counts()"
   ]
  },
  {
   "cell_type": "code",
   "execution_count": 60,
   "metadata": {},
   "outputs": [
    {
     "data": {
      "text/plain": [
       "0    24\n",
       "1     7\n",
       "Name: classificacao, dtype: int64"
      ]
     },
     "execution_count": 60,
     "metadata": {},
     "output_type": "execute_result"
    }
   ],
   "source": [
    "dt"
   ]
  },
  {
   "cell_type": "code",
   "execution_count": 61,
   "metadata": {},
   "outputs": [
    {
     "data": {
      "text/plain": [
       "0    24\n",
       "1     7\n",
       "Name: classificacao, dtype: int64"
      ]
     },
     "execution_count": 61,
     "metadata": {},
     "output_type": "execute_result"
    }
   ],
   "source": [
    "nn"
   ]
  },
  {
   "cell_type": "code",
   "execution_count": 62,
   "metadata": {},
   "outputs": [
    {
     "name": "stdout",
     "output_type": "stream",
     "text": [
      "0.22580645161290322\n"
     ]
    }
   ],
   "source": [
    "print(precision(dt))"
   ]
  },
  {
   "cell_type": "code",
   "execution_count": 63,
   "metadata": {},
   "outputs": [
    {
     "name": "stdout",
     "output_type": "stream",
     "text": [
      "0.22580645161290322\n"
     ]
    }
   ],
   "source": [
    "print(precision(nn))"
   ]
  },
  {
   "cell_type": "code",
   "execution_count": null,
   "metadata": {},
   "outputs": [],
   "source": []
  }
 ],
 "metadata": {
  "kernelspec": {
   "display_name": "Python 3",
   "language": "python",
   "name": "python3"
  },
  "language_info": {
   "codemirror_mode": {
    "name": "ipython",
    "version": 3
   },
   "file_extension": ".py",
   "mimetype": "text/x-python",
   "name": "python",
   "nbconvert_exporter": "python",
   "pygments_lexer": "ipython3",
   "version": "3.5.2"
  }
 },
 "nbformat": 4,
 "nbformat_minor": 2
}
